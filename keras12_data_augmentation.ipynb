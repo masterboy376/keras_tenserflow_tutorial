{
  "nbformat": 4,
  "nbformat_minor": 0,
  "metadata": {
    "colab": {
      "provenance": []
    },
    "kernelspec": {
      "name": "python3",
      "display_name": "Python 3"
    },
    "language_info": {
      "name": "python"
    }
  },
  "cells": [
    {
      "cell_type": "markdown",
      "source": [
        "## **Performing Data Augmentation In Code**"
      ],
      "metadata": {
        "id": "iJ0D2vOLHSfV"
      }
    },
    {
      "cell_type": "code",
      "source": [
        "import matplotlib.pyplot as plt\n",
        "import numpy as np\n",
        "import os\n",
        "import random\n",
        "import tensorflow as tf\n",
        "from tensorflow import keras\n",
        "from tensorflow.keras.preprocessing.image import ImageDataGenerator\n",
        "%matplotlib inline"
      ],
      "metadata": {
        "id": "4lYu7lCkHVJI"
      },
      "execution_count": null,
      "outputs": []
    },
    {
      "cell_type": "code",
      "source": [
        "def plotImages(images_arr):\n",
        "    fig, axes = plt.subplots(1, 10, figsize=(20,20))\n",
        "    axes = axes.flatten()\n",
        "    for img, ax in zip( images_arr, axes):\n",
        "        ax.imshow(img)\n",
        "        ax.axis('off')\n",
        "    plt.tight_layout()\n",
        "    plt.show()"
      ],
      "metadata": {
        "id": "kBFBs9WmHZtg"
      },
      "execution_count": null,
      "outputs": []
    },
    {
      "cell_type": "code",
      "source": [
        "gen = ImageDataGenerator(rotation_range=10, width_shift_range=0.1, height_shift_range=0.1, shear_range=0.15, zoom_range=0.1, \n",
        "    channel_shift_range=10., horizontal_flip=True)"
      ],
      "metadata": {
        "id": "gRCnmAYEHe1Q"
      },
      "execution_count": null,
      "outputs": []
    },
    {
      "cell_type": "code",
      "source": [
        "chosen_image = random.choice(os.listdir('data/dogs-vs-cats/train/dog'))"
      ],
      "metadata": {
        "id": "fGe_0vfJHoEg"
      },
      "execution_count": null,
      "outputs": []
    },
    {
      "cell_type": "code",
      "source": [
        "image_path = 'data/dogs-vs-cats/train/dog/' + chosen_image"
      ],
      "metadata": {
        "id": "j0ciC9uvHpUI"
      },
      "execution_count": null,
      "outputs": []
    },
    {
      "cell_type": "code",
      "source": [
        "image = np.expand_dims(plt.imread(image_path),0)"
      ],
      "metadata": {
        "id": "SH88PPVoHxjs"
      },
      "execution_count": null,
      "outputs": []
    },
    {
      "cell_type": "code",
      "source": [
        "plt.imshow(image[0])"
      ],
      "metadata": {
        "id": "PlZtsStiIkt2"
      },
      "execution_count": null,
      "outputs": []
    },
    {
      "cell_type": "code",
      "source": [
        "aug_iter = gen.flow(image)"
      ],
      "metadata": {
        "id": "gS0olLiCIm5E"
      },
      "execution_count": null,
      "outputs": []
    },
    {
      "cell_type": "code",
      "source": [
        "aug_images = [next(aug_iter)[0].astype(np.uint8) for i in range(10)]"
      ],
      "metadata": {
        "id": "JXiBMMiNIpJX"
      },
      "execution_count": null,
      "outputs": []
    },
    {
      "cell_type": "code",
      "source": [
        "plotImages(aug_images)"
      ],
      "metadata": {
        "id": "7s5ua3gFIsX_"
      },
      "execution_count": null,
      "outputs": []
    },
    {
      "cell_type": "markdown",
      "source": [
        "## **Save Augmented Data**"
      ],
      "metadata": {
        "id": "66qUC4wZIuu7"
      }
    },
    {
      "cell_type": "code",
      "source": [
        "aug_iter = gen.flow(image, save_to_dir='data/dogs-vs-cats/train/dog', save_prefix='aug-image-', save_format='jpeg')"
      ],
      "metadata": {
        "id": "sLTklOlYIy7o"
      },
      "execution_count": null,
      "outputs": []
    }
  ]
}