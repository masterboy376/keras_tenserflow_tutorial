{
  "nbformat": 4,
  "nbformat_minor": 0,
  "metadata": {
    "colab": {
      "provenance": []
    },
    "kernelspec": {
      "name": "python3",
      "display_name": "Python 3"
    },
    "language_info": {
      "name": "python"
    }
  },
  "cells": [
    {
      "cell_type": "markdown",
      "source": [
        "## **Image preparation**"
      ],
      "metadata": {
        "id": "FwtOhjhI08kH"
      }
    },
    {
      "cell_type": "code",
      "source": [
        "import numpy as np\n",
        "import tensorflow as tf\n",
        "from tensorflow import keras\n",
        "from tensorflow.keras.models import Sequential\n",
        "from tensorflow.keras.layers import Activation, Dense, Flatten, BatchNormalization, Conv2D, MaxPool2D\n",
        "from tensorflow.keras.optimizers import Adam\n",
        "from tensorflow.keras.metrics import categorical_crossentropy\n",
        "from tensorflow.keras.preprocessing.image import ImageDataGenerator\n",
        "from sklearn.metrics import confusion_matrix\n",
        "import itertools\n",
        "import os\n",
        "import shutil\n",
        "import random\n",
        "import glob\n",
        "import matplotlib.pyplot as plt\n",
        "import warnings\n",
        "warnings.simplefilter(action='ignore', category=FutureWarning)\n",
        "%matplotlib inline"
      ],
      "metadata": {
        "id": "cp94aEtM1BY8"
      },
      "execution_count": 1,
      "outputs": []
    },
    {
      "cell_type": "code",
      "source": [
        "# Organize data into train, valid, test dirs\n",
        "os.chdir('data/dogs-vs-cats')\n",
        "if os.path.isdir('train/dog') is False:\n",
        "    os.makedirs('train/dog')\n",
        "    os.makedirs('train/cat')\n",
        "    os.makedirs('valid/dog')\n",
        "    os.makedirs('valid/cat')\n",
        "    os.makedirs('test/dog')\n",
        "    os.makedirs('test/cat')\n",
        "\n",
        "    for i in random.sample(glob.glob('cat*'), 500):\n",
        "        shutil.move(i, 'train/cat')      \n",
        "    for i in random.sample(glob.glob('dog*'), 500):\n",
        "        shutil.move(i, 'train/dog')\n",
        "    for i in random.sample(glob.glob('cat*'), 100):\n",
        "        shutil.move(i, 'valid/cat')        \n",
        "    for i in random.sample(glob.glob('dog*'), 100):\n",
        "        shutil.move(i, 'valid/dog')\n",
        "    for i in random.sample(glob.glob('cat*'), 50):\n",
        "        shutil.move(i, 'test/cat')      \n",
        "    for i in random.sample(glob.glob('dog*'), 50):\n",
        "        shutil.move(i, 'test/dog')\n",
        "\n",
        "os.chdir('../../')"
      ],
      "metadata": {
        "id": "izK-H_WG1SdH"
      },
      "execution_count": 3,
      "outputs": []
    },
    {
      "cell_type": "code",
      "source": [
        "physical_devices = tf.config.experimental.list_physical_devices('GPU')\n",
        "print(\"Num GPUs Available: \", len(physical_devices))\n",
        "tf.config.experimental.set_memory_growth(physical_devices[0], True)"
      ],
      "metadata": {
        "id": "iVHaNoaH1-mh"
      },
      "execution_count": null,
      "outputs": []
    },
    {
      "cell_type": "code",
      "source": [
        "train_path = 'data/dogs-vs-cats/train'\n",
        "valid_path = 'data/dogs-vs-cats/valid'\n",
        "test_path = 'data/dogs-vs-cats/test'"
      ],
      "metadata": {
        "id": "fP4FWWtD18Mc"
      },
      "execution_count": null,
      "outputs": []
    },
    {
      "cell_type": "code",
      "source": [
        "# infinitely repeating dataset\n",
        "# due to this we need to add extra parameter in fit() function that is \"steps_per_epoch\" -> no. of samples/batch size \n",
        "# if we are also passing validation data then we also have to specify \"validation_steps\" it is similar to steps_per_epoch but it is in regard with validation set\n",
        "# when calling predict() function we have to specify \"step\" it is no. of batches to yield before declearing prediction round\n",
        "train_batches = ImageDataGenerator(preprocessing_function=tf.keras.applications.vgg16.preprocess_input) \\\n",
        "    .flow_from_directory(directory=train_path, target_size=(224,224), classes=['cat', 'dog'], batch_size=10)\n",
        "valid_batches = ImageDataGenerator(preprocessing_function=tf.keras.applications.vgg16.preprocess_input) \\\n",
        "    .flow_from_directory(directory=valid_path, target_size=(224,224), classes=['cat', 'dog'], batch_size=10)\n",
        "test_batches = ImageDataGenerator(preprocessing_function=tf.keras.applications.vgg16.preprocess_input) \\\n",
        "    .flow_from_directory(directory=test_path, target_size=(224,224), classes=['cat', 'dog'], batch_size=10, shuffle=False)\n",
        "# Note, in the case where you do not know the labels for the test data, you will need to modify the test_batches variable. Specifically, the change will be to set the parameters classes = None and class_mode = None in flow_from_directory()."
      ],
      "metadata": {
        "id": "y93SSjYf1_SA"
      },
      "execution_count": null,
      "outputs": []
    },
    {
      "cell_type": "code",
      "source": [
        "assert train_batches.n == 1000\n",
        "assert valid_batches.n == 200\n",
        "assert test_batches.n == 100\n",
        "assert train_batches.num_classes == valid_batches.num_classes == test_batches.num_classes == 2"
      ],
      "metadata": {
        "id": "IshTH7os2xwC"
      },
      "execution_count": null,
      "outputs": []
    },
    {
      "cell_type": "code",
      "source": [
        "imgs, labels = next(train_batches)"
      ],
      "metadata": {
        "id": "wK2ZoLX32q1A"
      },
      "execution_count": null,
      "outputs": []
    },
    {
      "cell_type": "code",
      "source": [
        "# from tensorflow website\n",
        "def plotImages(images_arr):\n",
        "    fig, axes = plt.subplots(1, 10, figsize=(20,20))\n",
        "    axes = axes.flatten()\n",
        "    for img, ax in zip( images_arr, axes):\n",
        "        ax.imshow(img)\n",
        "        ax.axis('off')\n",
        "    plt.tight_layout()\n",
        "    plt.show()"
      ],
      "metadata": {
        "id": "TO7FoxU33UlD"
      },
      "execution_count": null,
      "outputs": []
    },
    {
      "cell_type": "code",
      "source": [
        "plotImages(imgs)\n",
        "print(labels)"
      ],
      "metadata": {
        "id": "3zIDUcHt4HgI"
      },
      "execution_count": null,
      "outputs": []
    },
    {
      "cell_type": "markdown",
      "source": [
        "## **Build a simple CNN**"
      ],
      "metadata": {
        "id": "nZkmjj-49dxU"
      }
    },
    {
      "cell_type": "code",
      "source": [
        "model = Sequential([\n",
        "    Conv2D(filters=32, kernel_size=(3, 3), activation='relu', padding = 'same', input_shape=(224,224,3)),\n",
        "    MaxPool2D(pool_size=(2, 2), strides=2),\n",
        "    Conv2D(filters=64, kernel_size=(3, 3), activation='relu', padding = 'same'),\n",
        "    MaxPool2D(pool_size=(2, 2), strides=2),\n",
        "    Flatten(),\n",
        "    Dense(units=2, activation='softmax')\n",
        "])"
      ],
      "metadata": {
        "id": "_yWf5TV-9hTZ"
      },
      "execution_count": null,
      "outputs": []
    },
    {
      "cell_type": "code",
      "source": [
        "model.summary()"
      ],
      "metadata": {
        "id": "Tb8GAF-u95Ja"
      },
      "execution_count": null,
      "outputs": []
    },
    {
      "cell_type": "code",
      "source": [
        "model.compile(optimizer=Adam(learning_rate=0.0001), loss='categorical_crossentropy', metrics=['accuracy'])"
      ],
      "metadata": {
        "id": "0JEAeWzb99Xo"
      },
      "execution_count": null,
      "outputs": []
    },
    {
      "cell_type": "markdown",
      "source": [
        "## **Train a simple CNN**"
      ],
      "metadata": {
        "id": "Ng72eSS1-Itf"
      }
    },
    {
      "cell_type": "code",
      "source": [
        "model.fit(x=train_batches,\n",
        "    steps_per_epoch=len(train_batches),\n",
        "    validation_data=valid_batches,\n",
        "    validation_steps=len(valid_batches),\n",
        "    epochs=10,\n",
        "    verbose=2\n",
        ")"
      ],
      "metadata": {
        "id": "xzVBTE0j-G4n"
      },
      "execution_count": null,
      "outputs": []
    }
  ]
}