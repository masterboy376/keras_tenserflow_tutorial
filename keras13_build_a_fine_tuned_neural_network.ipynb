{
  "nbformat": 4,
  "nbformat_minor": 0,
  "metadata": {
    "colab": {
      "provenance": []
    },
    "kernelspec": {
      "name": "python3",
      "display_name": "Python 3"
    },
    "language_info": {
      "name": "python"
    }
  },
  "cells": [
    {
      "cell_type": "markdown",
      "source": [
        "## **VGG16 Preprocessing**"
      ],
      "metadata": {
        "id": "8EZuVVaOKyDj"
      }
    },
    {
      "cell_type": "markdown",
      "source": [
        "2.1 Architecture section, we can see that the authors stated that, \"The only preprocessing we do is subtracting the mean RGB value, computed on the training set, from each pixel.\""
      ],
      "metadata": {
        "id": "9uj4zgptK5Mw"
      }
    },
    {
      "cell_type": "markdown",
      "source": [
        "## **Building A Fine-Tuned Model**"
      ],
      "metadata": {
        "id": "_xUCmN4uK9f8"
      }
    },
    {
      "cell_type": "code",
      "source": [
        "vgg16_model = tf.keras.applications.vgg16.VGG16()"
      ],
      "metadata": {
        "id": "IvdFDHDjLMB6"
      },
      "execution_count": null,
      "outputs": []
    },
    {
      "cell_type": "code",
      "source": [
        "vgg16_model.summary()"
      ],
      "metadata": {
        "id": "BQzaG72BLPak"
      },
      "execution_count": null,
      "outputs": []
    },
    {
      "cell_type": "code",
      "source": [
        "type(vgg16_model)"
      ],
      "metadata": {
        "id": "eG9zpK53LSLn"
      },
      "execution_count": null,
      "outputs": []
    },
    {
      "cell_type": "code",
      "source": [
        "model = Sequential()\n",
        "for layer in vgg16_model.layers[:-1]:\n",
        "    model.add(layer)"
      ],
      "metadata": {
        "id": "YdqzabMGLhk0"
      },
      "execution_count": null,
      "outputs": []
    },
    {
      "cell_type": "code",
      "source": [
        "for layer in model.layers:\n",
        "    layer.trainable = False"
      ],
      "metadata": {
        "id": "dQKsZnvHLktQ"
      },
      "execution_count": null,
      "outputs": []
    },
    {
      "cell_type": "code",
      "source": [
        "model.add(Dense(units=2, activation='softmax'))"
      ],
      "metadata": {
        "id": "xjWfAWyfLnbk"
      },
      "execution_count": null,
      "outputs": []
    },
    {
      "cell_type": "code",
      "source": [
        "model.summary()"
      ],
      "metadata": {
        "id": "riEo1yZGLpTE"
      },
      "execution_count": null,
      "outputs": []
    }
  ]
}