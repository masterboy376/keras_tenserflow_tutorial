{
  "nbformat": 4,
  "nbformat_minor": 0,
  "metadata": {
    "colab": {
      "provenance": []
    },
    "kernelspec": {
      "name": "python3",
      "display_name": "Python 3"
    },
    "language_info": {
      "name": "python"
    }
  },
  "cells": [
    {
      "cell_type": "code",
      "execution_count": 17,
      "metadata": {
        "id": "ayCwgJ0YPzHh"
      },
      "outputs": [],
      "source": [
        "import tensorflow as tf\n",
        "from tensorflow import keras\n",
        "from tensorflow.keras.models import Sequential\n",
        "from tensorflow.keras.layers import Activation, Dense\n",
        "from tensorflow.keras.optimizers import Adam\n",
        "from tensorflow.keras.metrics import categorical_crossentropy"
      ]
    },
    {
      "cell_type": "code",
      "source": [
        "model = Sequential([\n",
        "    Dense(units=16, input_shape=(1,), activation='relu'),\n",
        "    Dense(units=32, activation='relu'),\n",
        "    Dense(units=2, activation='softmax')\n",
        "])"
      ],
      "metadata": {
        "id": "Y6jA6aEfRYC7"
      },
      "execution_count": 18,
      "outputs": []
    },
    {
      "cell_type": "code",
      "source": [
        "model.compile(optimizer=Adam(learning_rate=0.0001), loss='sparse_categorical_crossentropy', metrics=['accuracy'])"
      ],
      "metadata": {
        "id": "Gdeb4t1lRaln"
      },
      "execution_count": 19,
      "outputs": []
    },
    {
      "cell_type": "code",
      "source": [
        "import numpy as np\n",
        "from random import randint\n",
        "from sklearn.utils import shuffle\n",
        "from sklearn.preprocessing import MinMaxScaler"
      ],
      "metadata": {
        "id": "oeS2BqKoRdTK"
      },
      "execution_count": 20,
      "outputs": []
    },
    {
      "cell_type": "code",
      "source": [
        "train_labels = []\n",
        "train_samples = []"
      ],
      "metadata": {
        "id": "aifPllqSRhcZ"
      },
      "execution_count": 21,
      "outputs": []
    },
    {
      "cell_type": "code",
      "source": [
        "for i in range(50):\n",
        "    # The ~5% of younger individuals who did experience side effects\n",
        "    random_younger = randint(13,64)\n",
        "    train_samples.append(random_younger)\n",
        "    train_labels.append(1)\n",
        "\n",
        "    # The ~5% of older individuals who did not experience side effects\n",
        "    random_older = randint(65,100)\n",
        "    train_samples.append(random_older)\n",
        "    train_labels.append(0)\n",
        "\n",
        "for i in range(1000):\n",
        "    # The ~95% of younger individuals who did not experience side effects\n",
        "    random_younger = randint(13,64)\n",
        "    train_samples.append(random_younger)\n",
        "    train_labels.append(0)\n",
        "\n",
        "    # The ~95% of older individuals who did experience side effects\n",
        "    random_older = randint(65,100)\n",
        "    train_samples.append(random_older)\n",
        "    train_labels.append(1)"
      ],
      "metadata": {
        "id": "S-YBRJ5DRkR1"
      },
      "execution_count": 22,
      "outputs": []
    },
    {
      "cell_type": "code",
      "source": [
        "train_labels = np.array(train_labels)\n",
        "train_samples = np.array(train_samples)\n",
        "train_labels, train_samples = shuffle(train_labels, train_samples)"
      ],
      "metadata": {
        "id": "ukNKP5v6RmuF"
      },
      "execution_count": 23,
      "outputs": []
    },
    {
      "cell_type": "code",
      "source": [
        "scaler = MinMaxScaler(feature_range=(0,1))\n",
        "scaled_train_samples = scaler.fit_transform(train_samples.reshape(-1,1))"
      ],
      "metadata": {
        "id": "LgjyKC5ZRoBM"
      },
      "execution_count": 24,
      "outputs": []
    },
    {
      "cell_type": "markdown",
      "source": [
        "### Manually creating validation dataset"
      ],
      "metadata": {
        "id": "-QtcUWK0R5d_"
      }
    },
    {
      "cell_type": "code",
      "source": [
        "# model.fit(\n",
        "#       x=scaled_train_samples\n",
        "#     , y=train_labels\n",
        "#     , validation_data=valid_set\n",
        "#     , batch_size=10\n",
        "#     , epochs=30\n",
        "#     , verbose=2\n",
        "# )"
      ],
      "metadata": {
        "id": "8Udtul9PRs5E"
      },
      "execution_count": 25,
      "outputs": []
    },
    {
      "cell_type": "markdown",
      "source": [
        "### Creating validation set using keras"
      ],
      "metadata": {
        "id": "twB2vn8CSA7_"
      }
    },
    {
      "cell_type": "markdown",
      "source": [
        "shuffle your entire dataset before creating validation set like this because validation split reserves last x fraction of data as validation set, and shuffle=True parameter only shuffles the training set after the split."
      ],
      "metadata": {
        "id": "K1MPj_H5TWJs"
      }
    },
    {
      "cell_type": "code",
      "source": [
        "model.fit(\n",
        "      x=scaled_train_samples\n",
        "    , y=train_labels\n",
        "    , validation_split=0.1\n",
        "    , batch_size=10\n",
        "    , epochs=30\n",
        "    , verbose=2\n",
        ")"
      ],
      "metadata": {
        "colab": {
          "base_uri": "https://localhost:8080/"
        },
        "id": "XKavwV3wSOaI",
        "outputId": "8a1dcfe2-6b3f-4543-c6ae-462c9aaa30d7"
      },
      "execution_count": 26,
      "outputs": [
        {
          "output_type": "stream",
          "name": "stdout",
          "text": [
            "Epoch 1/30\n",
            "189/189 - 1s - loss: 0.6548 - accuracy: 0.5556 - val_loss: 0.6367 - val_accuracy: 0.6238 - 1s/epoch - 7ms/step\n",
            "Epoch 2/30\n",
            "189/189 - 0s - loss: 0.6323 - accuracy: 0.6540 - val_loss: 0.6115 - val_accuracy: 0.7238 - 449ms/epoch - 2ms/step\n",
            "Epoch 3/30\n",
            "189/189 - 0s - loss: 0.6115 - accuracy: 0.7016 - val_loss: 0.5898 - val_accuracy: 0.7429 - 496ms/epoch - 3ms/step\n",
            "Epoch 4/30\n",
            "189/189 - 0s - loss: 0.5907 - accuracy: 0.7302 - val_loss: 0.5674 - val_accuracy: 0.7714 - 466ms/epoch - 2ms/step\n",
            "Epoch 5/30\n",
            "189/189 - 0s - loss: 0.5694 - accuracy: 0.7466 - val_loss: 0.5455 - val_accuracy: 0.8048 - 462ms/epoch - 2ms/step\n",
            "Epoch 6/30\n",
            "189/189 - 1s - loss: 0.5475 - accuracy: 0.7735 - val_loss: 0.5222 - val_accuracy: 0.8095 - 512ms/epoch - 3ms/step\n",
            "Epoch 7/30\n",
            "189/189 - 0s - loss: 0.5251 - accuracy: 0.7915 - val_loss: 0.4992 - val_accuracy: 0.8190 - 346ms/epoch - 2ms/step\n",
            "Epoch 8/30\n",
            "189/189 - 0s - loss: 0.5026 - accuracy: 0.8164 - val_loss: 0.4765 - val_accuracy: 0.8571 - 289ms/epoch - 2ms/step\n",
            "Epoch 9/30\n",
            "189/189 - 0s - loss: 0.4801 - accuracy: 0.8376 - val_loss: 0.4538 - val_accuracy: 0.8619 - 336ms/epoch - 2ms/step\n",
            "Epoch 10/30\n",
            "189/189 - 0s - loss: 0.4583 - accuracy: 0.8524 - val_loss: 0.4322 - val_accuracy: 0.8714 - 329ms/epoch - 2ms/step\n",
            "Epoch 11/30\n",
            "189/189 - 0s - loss: 0.4371 - accuracy: 0.8693 - val_loss: 0.4119 - val_accuracy: 0.8857 - 335ms/epoch - 2ms/step\n",
            "Epoch 12/30\n",
            "189/189 - 0s - loss: 0.4172 - accuracy: 0.8799 - val_loss: 0.3932 - val_accuracy: 0.8857 - 301ms/epoch - 2ms/step\n",
            "Epoch 13/30\n",
            "189/189 - 0s - loss: 0.3989 - accuracy: 0.8910 - val_loss: 0.3765 - val_accuracy: 0.9000 - 299ms/epoch - 2ms/step\n",
            "Epoch 14/30\n",
            "189/189 - 0s - loss: 0.3822 - accuracy: 0.9011 - val_loss: 0.3599 - val_accuracy: 0.9000 - 297ms/epoch - 2ms/step\n",
            "Epoch 15/30\n",
            "189/189 - 0s - loss: 0.3671 - accuracy: 0.9048 - val_loss: 0.3458 - val_accuracy: 0.9143 - 305ms/epoch - 2ms/step\n",
            "Epoch 16/30\n",
            "189/189 - 0s - loss: 0.3534 - accuracy: 0.9079 - val_loss: 0.3327 - val_accuracy: 0.9143 - 298ms/epoch - 2ms/step\n",
            "Epoch 17/30\n",
            "189/189 - 0s - loss: 0.3411 - accuracy: 0.9122 - val_loss: 0.3217 - val_accuracy: 0.9333 - 324ms/epoch - 2ms/step\n",
            "Epoch 18/30\n",
            "189/189 - 0s - loss: 0.3304 - accuracy: 0.9138 - val_loss: 0.3117 - val_accuracy: 0.9333 - 340ms/epoch - 2ms/step\n",
            "Epoch 19/30\n",
            "189/189 - 0s - loss: 0.3209 - accuracy: 0.9185 - val_loss: 0.3026 - val_accuracy: 0.9381 - 319ms/epoch - 2ms/step\n",
            "Epoch 20/30\n",
            "189/189 - 0s - loss: 0.3127 - accuracy: 0.9164 - val_loss: 0.2950 - val_accuracy: 0.9381 - 292ms/epoch - 2ms/step\n",
            "Epoch 21/30\n",
            "189/189 - 0s - loss: 0.3054 - accuracy: 0.9185 - val_loss: 0.2883 - val_accuracy: 0.9381 - 347ms/epoch - 2ms/step\n",
            "Epoch 22/30\n",
            "189/189 - 0s - loss: 0.2988 - accuracy: 0.9217 - val_loss: 0.2818 - val_accuracy: 0.9381 - 304ms/epoch - 2ms/step\n",
            "Epoch 23/30\n",
            "189/189 - 0s - loss: 0.2928 - accuracy: 0.9196 - val_loss: 0.2754 - val_accuracy: 0.9381 - 294ms/epoch - 2ms/step\n",
            "Epoch 24/30\n",
            "189/189 - 0s - loss: 0.2865 - accuracy: 0.9212 - val_loss: 0.2702 - val_accuracy: 0.9381 - 334ms/epoch - 2ms/step\n",
            "Epoch 25/30\n",
            "189/189 - 0s - loss: 0.2822 - accuracy: 0.9243 - val_loss: 0.2660 - val_accuracy: 0.9381 - 288ms/epoch - 2ms/step\n",
            "Epoch 26/30\n",
            "189/189 - 0s - loss: 0.2783 - accuracy: 0.9243 - val_loss: 0.2629 - val_accuracy: 0.9476 - 339ms/epoch - 2ms/step\n",
            "Epoch 27/30\n",
            "189/189 - 0s - loss: 0.2750 - accuracy: 0.9286 - val_loss: 0.2595 - val_accuracy: 0.9476 - 332ms/epoch - 2ms/step\n",
            "Epoch 28/30\n",
            "189/189 - 0s - loss: 0.2721 - accuracy: 0.9238 - val_loss: 0.2574 - val_accuracy: 0.9476 - 346ms/epoch - 2ms/step\n",
            "Epoch 29/30\n",
            "189/189 - 0s - loss: 0.2699 - accuracy: 0.9333 - val_loss: 0.2545 - val_accuracy: 0.9476 - 303ms/epoch - 2ms/step\n",
            "Epoch 30/30\n",
            "189/189 - 0s - loss: 0.2676 - accuracy: 0.9307 - val_loss: 0.2515 - val_accuracy: 0.9476 - 362ms/epoch - 2ms/step\n"
          ]
        },
        {
          "output_type": "execute_result",
          "data": {
            "text/plain": [
              "<keras.callbacks.History at 0x7f12d0750220>"
            ]
          },
          "metadata": {},
          "execution_count": 26
        }
      ]
    }
  ]
}