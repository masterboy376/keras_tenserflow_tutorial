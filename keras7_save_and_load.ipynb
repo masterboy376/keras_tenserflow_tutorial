{
  "nbformat": 4,
  "nbformat_minor": 0,
  "metadata": {
    "colab": {
      "provenance": []
    },
    "kernelspec": {
      "name": "python3",
      "display_name": "Python 3"
    },
    "language_info": {
      "name": "python"
    }
  },
  "cells": [
    {
      "cell_type": "markdown",
      "source": [
        "## **Creating model**"
      ],
      "metadata": {
        "id": "EZSSC-Z_jV4r"
      }
    },
    {
      "cell_type": "code",
      "execution_count": 1,
      "metadata": {
        "id": "ayCwgJ0YPzHh"
      },
      "outputs": [],
      "source": [
        "import tensorflow as tf\n",
        "from tensorflow import keras\n",
        "from tensorflow.keras.models import Sequential\n",
        "from tensorflow.keras.layers import Activation, Dense\n",
        "from tensorflow.keras.optimizers import Adam\n",
        "from tensorflow.keras.metrics import categorical_crossentropy"
      ]
    },
    {
      "cell_type": "code",
      "source": [
        "model = Sequential([\n",
        "    Dense(units=16, input_shape=(1,), activation='relu'),\n",
        "    Dense(units=32, activation='relu'),\n",
        "    Dense(units=2, activation='softmax')\n",
        "])"
      ],
      "metadata": {
        "id": "Y6jA6aEfRYC7"
      },
      "execution_count": 2,
      "outputs": []
    },
    {
      "cell_type": "code",
      "source": [
        "model.compile(optimizer=Adam(learning_rate=0.0001), loss='sparse_categorical_crossentropy', metrics=['accuracy'])"
      ],
      "metadata": {
        "id": "Gdeb4t1lRaln"
      },
      "execution_count": 3,
      "outputs": []
    },
    {
      "cell_type": "markdown",
      "source": [
        "## **Creating training dataset**"
      ],
      "metadata": {
        "id": "foDy50hXjKC8"
      }
    },
    {
      "cell_type": "code",
      "source": [
        "import numpy as np\n",
        "from random import randint\n",
        "from sklearn.utils import shuffle\n",
        "from sklearn.preprocessing import MinMaxScaler"
      ],
      "metadata": {
        "id": "-fkYIh9OV7YZ"
      },
      "execution_count": 4,
      "outputs": []
    },
    {
      "cell_type": "code",
      "source": [
        "train_labels = []\n",
        "train_samples = []"
      ],
      "metadata": {
        "id": "hBEktWpXWFzE"
      },
      "execution_count": 5,
      "outputs": []
    },
    {
      "cell_type": "code",
      "source": [
        "for i in range(50):\n",
        "    # The ~5% of younger individuals who did experience side effects\n",
        "    random_younger = randint(13,64)\n",
        "    train_samples.append(random_younger)\n",
        "    train_labels.append(1)\n",
        "\n",
        "    # The ~5% of older individuals who did not experience side effects\n",
        "    random_older = randint(65,100)\n",
        "    train_samples.append(random_older)\n",
        "    train_labels.append(0)\n",
        "\n",
        "for i in range(1000):\n",
        "    # The ~95% of younger individuals who did not experience side effects\n",
        "    random_younger = randint(13,64)\n",
        "    train_samples.append(random_younger)\n",
        "    train_labels.append(0)\n",
        "\n",
        "    # The ~95% of older individuals who did experience side effects\n",
        "    random_older = randint(65,100)\n",
        "    train_samples.append(random_older)\n",
        "    train_labels.append(1)"
      ],
      "metadata": {
        "id": "S-YBRJ5DRkR1"
      },
      "execution_count": 6,
      "outputs": []
    },
    {
      "cell_type": "code",
      "source": [
        "train_labels = np.array(train_labels)\n",
        "train_samples = np.array(train_samples)\n",
        "train_labels, train_samples = shuffle(train_labels, train_samples)"
      ],
      "metadata": {
        "id": "ukNKP5v6RmuF"
      },
      "execution_count": 7,
      "outputs": []
    },
    {
      "cell_type": "code",
      "source": [
        "scaler = MinMaxScaler(feature_range=(0,1))\n",
        "scaled_train_samples = scaler.fit_transform(train_samples.reshape(-1,1))"
      ],
      "metadata": {
        "id": "LgjyKC5ZRoBM"
      },
      "execution_count": 8,
      "outputs": []
    },
    {
      "cell_type": "markdown",
      "source": [
        "## **Training model**"
      ],
      "metadata": {
        "id": "bFZH5n3qjAZf"
      }
    },
    {
      "cell_type": "code",
      "source": [
        "model.fit(\n",
        "      x=scaled_train_samples\n",
        "    , y=train_labels\n",
        "    , validation_split=0.1\n",
        "    , batch_size=10\n",
        "    , epochs=30\n",
        "    , verbose=2\n",
        ")"
      ],
      "metadata": {
        "id": "XKavwV3wSOaI"
      },
      "execution_count": null,
      "outputs": []
    },
    {
      "cell_type": "markdown",
      "source": [
        "## **Creating a test set**"
      ],
      "metadata": {
        "id": "sHUVGudli7Mt"
      }
    },
    {
      "cell_type": "code",
      "source": [
        "test_labels =  []\n",
        "test_samples = []\n",
        "\n",
        "for i in range(10):\n",
        "    # The 5% of younger individuals who did experience side effects\n",
        "    random_younger = randint(13,64)\n",
        "    test_samples.append(random_younger)\n",
        "    test_labels.append(1)\n",
        "\n",
        "    # The 5% of older individuals who did not experience side effects\n",
        "    random_older = randint(65,100)\n",
        "    test_samples.append(random_older)\n",
        "    test_labels.append(0)\n",
        "\n",
        "for i in range(200):\n",
        "    # The 95% of younger individuals who did not experience side effects\n",
        "    random_younger = randint(13,64)\n",
        "    test_samples.append(random_younger)\n",
        "    test_labels.append(0)\n",
        "\n",
        "    # The 95% of older individuals who did experience side effects\n",
        "    random_older = randint(65,100)\n",
        "    test_samples.append(random_older)\n",
        "    test_labels.append(1)\n",
        "\n",
        "test_labels = np.array(test_labels)\n",
        "test_samples = np.array(test_samples)\n",
        "test_labels, test_samples = shuffle(test_labels, test_samples)\n",
        "\n",
        "scaled_test_samples = scaler.fit_transform(test_samples.reshape(-1,1))"
      ],
      "metadata": {
        "id": "Tkzud3DRWh-V"
      },
      "execution_count": 10,
      "outputs": []
    },
    {
      "cell_type": "markdown",
      "source": [
        "## **Evaluating a test set**"
      ],
      "metadata": {
        "id": "RdKspOJdWuos"
      }
    },
    {
      "cell_type": "code",
      "source": [
        "predictions = model.predict(\n",
        "      x=scaled_test_samples\n",
        "    , batch_size=10\n",
        "    , verbose=0\n",
        ")  "
      ],
      "metadata": {
        "id": "YfORoINgWzoE"
      },
      "execution_count": 11,
      "outputs": []
    },
    {
      "cell_type": "code",
      "source": [
        "for i in predictions:\n",
        "    print(i)"
      ],
      "metadata": {
        "id": "oEHcEuJqW2ZV"
      },
      "execution_count": null,
      "outputs": []
    },
    {
      "cell_type": "code",
      "source": [
        "rounded_predictions = np.argmax(predictions, axis=-1)"
      ],
      "metadata": {
        "id": "ddoDl-dsXC5G"
      },
      "execution_count": 13,
      "outputs": []
    },
    {
      "cell_type": "code",
      "source": [
        "for i in rounded_predictions:\n",
        "    print(i)"
      ],
      "metadata": {
        "id": "HAFY-EVxXT5m"
      },
      "execution_count": null,
      "outputs": []
    },
    {
      "cell_type": "markdown",
      "source": [
        "## **Analyzing the confusion matrix**"
      ],
      "metadata": {
        "id": "AAC34ONBjc_f"
      }
    },
    {
      "cell_type": "code",
      "source": [
        "%matplotlib inline\n",
        "from sklearn.metrics import confusion_matrix\n",
        "import itertools\n",
        "import matplotlib.pyplot as plt"
      ],
      "metadata": {
        "id": "TFe__rKLhJXx"
      },
      "execution_count": 15,
      "outputs": []
    },
    {
      "cell_type": "code",
      "source": [
        "cm = confusion_matrix(y_true=test_labels, y_pred=rounded_predictions)"
      ],
      "metadata": {
        "id": "e7kNVKORhRm4"
      },
      "execution_count": 16,
      "outputs": []
    },
    {
      "cell_type": "code",
      "source": [
        "def plot_confusion_matrix(cm, classes,\n",
        "                        normalize=False,\n",
        "                        title='Confusion matrix',\n",
        "                        cmap=plt.cm.Blues):\n",
        "    \"\"\"\n",
        "    This function prints and plots the confusion matrix.\n",
        "    Normalization can be applied by setting `normalize=True`.\n",
        "    \"\"\"\n",
        "    plt.imshow(cm, interpolation='nearest', cmap=cmap)\n",
        "    plt.title(title)\n",
        "    plt.colorbar()\n",
        "    tick_marks = np.arange(len(classes))\n",
        "    plt.xticks(tick_marks, classes, rotation=45)\n",
        "    plt.yticks(tick_marks, classes)\n",
        "\n",
        "    if normalize:\n",
        "        cm = cm.astype('float') / cm.sum(axis=1)[:, np.newaxis]\n",
        "        print(\"Normalized confusion matrix\")\n",
        "    else:\n",
        "        print('Confusion matrix, without normalization')\n",
        "\n",
        "    print(cm)\n",
        "\n",
        "    thresh = cm.max() / 2.\n",
        "    for i, j in itertools.product(range(cm.shape[0]), range(cm.shape[1])):\n",
        "        plt.text(j, i, cm[i, j],\n",
        "            horizontalalignment=\"center\",\n",
        "            color=\"white\" if cm[i, j] > thresh else \"black\")\n",
        "\n",
        "    plt.tight_layout()\n",
        "    plt.ylabel('True label')\n",
        "    plt.xlabel('Predicted label')"
      ],
      "metadata": {
        "id": "gjT24I8NhnVE"
      },
      "execution_count": 19,
      "outputs": []
    },
    {
      "cell_type": "code",
      "source": [
        "cm_plot_labels = ['no_side_effects','had_side_effects']"
      ],
      "metadata": {
        "id": "0W4LT-Rdhzm5"
      },
      "execution_count": 18,
      "outputs": []
    },
    {
      "cell_type": "code",
      "source": [
        "plot_confusion_matrix(cm=cm, classes=cm_plot_labels, title='Confusion Matrix')"
      ],
      "metadata": {
        "colab": {
          "base_uri": "https://localhost:8080/",
          "height": 558
        },
        "id": "b4-kvWbSh2kL",
        "outputId": "067fd75f-7d48-4acb-d739-1e0807918422"
      },
      "execution_count": 20,
      "outputs": [
        {
          "output_type": "stream",
          "name": "stdout",
          "text": [
            "Confusion matrix, without normalization\n",
            "[[193  17]\n",
            " [ 10 200]]\n"
          ]
        },
        {
          "output_type": "display_data",
          "data": {
            "text/plain": [
              "<Figure size 640x480 with 2 Axes>"
            ],
            "image/png": "[encoded data removed]"
          },
          "metadata": {}
        }
      ]
    },
    {
      "cell_type": "markdown",
      "source": [
        "## **1. model.save()**"
      ],
      "metadata": {
        "id": "5yezWzAXjmxe"
      }
    },
    {
      "cell_type": "code",
      "source": [
        "import os.path\n",
        "if os.path.isfile('models/medical_trial_model.h5') is False:\n",
        "  model.save('models/medical_trial_model.h5')"
      ],
      "metadata": {
        "id": "5ije5jWyj0td"
      },
      "execution_count": 21,
      "outputs": []
    },
    {
      "cell_type": "markdown",
      "source": [
        "This function saves:\n",
        "* The architecture of the model, allowing to re-create the model.\n",
        "* The weights of the model.\n",
        "* The training configuration (loss, optimizer)\n",
        "* The state of the optimizer, allowinng to resume training exactly where you left."
      ],
      "metadata": {
        "id": "4V6oA6xOkccL"
      }
    },
    {
      "cell_type": "code",
      "source": [
        "from tensorflow.keras.models import load_model\n",
        "new_model = load_model('models/medical_trial_model.h5')"
      ],
      "metadata": {
        "id": "bj279kLhlFCQ"
      },
      "execution_count": 22,
      "outputs": []
    },
    {
      "cell_type": "code",
      "source": [
        "new_model.summary()"
      ],
      "metadata": {
        "colab": {
          "base_uri": "https://localhost:8080/"
        },
        "id": "VfVSfIYFlInu",
        "outputId": "9eb7d4e2-7c8c-49b1-94c7-0d2e3171b05e"
      },
      "execution_count": 23,
      "outputs": [
        {
          "output_type": "stream",
          "name": "stdout",
          "text": [
            "Model: \"sequential\"\n",
            "_________________________________________________________________\n",
            " Layer (type)                Output Shape              Param #   \n",
            "=================================================================\n",
            " dense (Dense)               (None, 16)                32        \n",
            "                                                                 \n",
            " dense_1 (Dense)             (None, 32)                544       \n",
            "                                                                 \n",
            " dense_2 (Dense)             (None, 2)                 66        \n",
            "                                                                 \n",
            "=================================================================\n",
            "Total params: 642\n",
            "Trainable params: 642\n",
            "Non-trainable params: 0\n",
            "_________________________________________________________________\n"
          ]
        }
      ]
    },
    {
      "cell_type": "code",
      "source": [
        "new_model.get_weights()"
      ],
      "metadata": {
        "colab": {
          "base_uri": "https://localhost:8080/"
        },
        "id": "34zWVp8JlcSI",
        "outputId": "69d16e2c-9e13-4587-87f9-a291bf2a655c"
      },
      "execution_count": 25,
      "outputs": [
        {
          "output_type": "execute_result",
          "data": {
            "text/plain": [
              "[array([[ 0.7263143 , -0.37084234, -0.10190812, -0.04804528,  0.5230936 ,\n",
              "         -0.17790899, -0.10899913, -0.00146729, -0.33397636, -0.05158991,\n",
              "          0.3700958 , -0.51072645, -0.06927307, -0.27870095,  0.31439146,\n",
              "         -0.5449897 ]], dtype=float32),\n",
              " array([-0.13094622,  0.        ,  0.        ,  0.        , -0.11730025,\n",
              "         0.        ,  0.        ,  0.        ,  0.        ,  0.        ,\n",
              "         0.01620673,  0.        ,  0.22396775,  0.        , -0.09145606,\n",
              "         0.        ], dtype=float32),\n",
              " array([[-3.72915149e-01, -1.08773515e-01, -2.35196948e-03,\n",
              "         -3.28661799e-01,  1.69785231e-01,  7.43561313e-02,\n",
              "          5.29788971e-01,  1.71600193e-01, -3.28006506e-01,\n",
              "          5.74754477e-01, -2.34591037e-01, -1.39822856e-01,\n",
              "          4.69404578e-01, -4.59190011e-02, -1.30873635e-01,\n",
              "         -4.06730831e-01, -1.20450504e-01,  1.21390797e-01,\n",
              "          5.48849642e-01,  4.72368628e-01, -1.84601381e-01,\n",
              "         -1.73058361e-01, -3.22922409e-01, -2.86822498e-01,\n",
              "         -4.60161924e-01, -4.65053678e-01,  4.23005193e-01,\n",
              "          3.13510746e-01, -3.42291176e-01,  4.18876559e-01,\n",
              "         -7.40075111e-02,  3.56376320e-01],\n",
              "        [-3.20113152e-01,  2.21577793e-01,  2.98959166e-01,\n",
              "          2.36673683e-01, -2.82792032e-01,  3.43866616e-01,\n",
              "          2.25626856e-01,  3.17776769e-01,  3.31940502e-01,\n",
              "          1.78173691e-01,  2.71296293e-01, -9.03086364e-02,\n",
              "         -1.10383689e-01, -3.40764433e-01,  2.86684483e-01,\n",
              "         -3.37054580e-01,  6.85057342e-02,  2.79236585e-01,\n",
              "         -1.03514016e-01,  1.55438393e-01, -2.24319428e-01,\n",
              "          3.38569880e-02,  2.58322954e-02, -1.81550831e-01,\n",
              "         -1.68340161e-01,  2.72405952e-01, -1.00811124e-01,\n",
              "         -2.65417337e-01,  2.90985912e-01, -6.21596873e-02,\n",
              "          8.11877251e-02,  1.98886603e-01],\n",
              "        [ 2.18092471e-01, -2.23543763e-01,  1.59771174e-01,\n",
              "         -2.58956373e-01,  3.26943189e-01,  5.00482917e-02,\n",
              "          1.11906201e-01, -3.16321790e-01, -5.68002164e-02,\n",
              "          1.04619533e-01,  3.33158106e-01,  1.36281341e-01,\n",
              "          2.03275651e-01,  2.83181220e-01, -3.28020990e-01,\n",
              "         -9.23663378e-02,  2.73951620e-01,  1.82217360e-03,\n",
              "          1.48736209e-01,  1.14550233e-01,  3.50561738e-03,\n",
              "          1.79630548e-01,  1.59374923e-01, -3.17740530e-01,\n",
              "         -3.39994162e-01,  4.89620864e-02,  3.49349886e-01,\n",
              "         -1.93608880e-01,  1.94100827e-01, -9.37347710e-02,\n",
              "         -3.39814723e-02,  1.55731738e-02],\n",
              "        [-2.85499126e-01,  3.27066392e-01, -1.89902738e-01,\n",
              "          4.09424305e-04,  6.67968392e-03,  5.09185195e-02,\n",
              "         -9.13557410e-02, -2.42446542e-01, -7.43028820e-02,\n",
              "          3.92687321e-02, -1.41417935e-01,  3.74271572e-02,\n",
              "         -2.14043602e-01, -7.94313848e-02, -1.47895560e-01,\n",
              "          5.93973100e-02,  1.58460170e-01, -2.76640534e-01,\n",
              "         -3.07306588e-01, -2.89136320e-01,  3.47932667e-01,\n",
              "          2.74180681e-01, -2.29828119e-01, -6.05459809e-02,\n",
              "          3.13384086e-01,  3.56121361e-02,  2.19044417e-01,\n",
              "          2.04240113e-01,  4.88702059e-02,  2.94581026e-01,\n",
              "         -3.24939638e-01,  9.68173146e-03],\n",
              "        [-2.15812743e-01, -1.06758803e-01, -2.04980105e-01,\n",
              "          6.67029619e-02, -2.13938668e-01, -3.68396252e-01,\n",
              "          4.81576860e-01, -3.33754808e-01,  1.53312951e-01,\n",
              "          4.65194255e-01, -2.17560261e-01,  9.26694199e-02,\n",
              "          5.30870855e-01,  2.81592876e-01,  1.29573405e-01,\n",
              "         -4.29688767e-02,  9.96415839e-02,  5.40501416e-01,\n",
              "          5.21976173e-01,  2.99889445e-01, -2.59432614e-01,\n",
              "         -2.21858904e-01,  1.48860961e-01, -5.61884105e-01,\n",
              "         -3.00844043e-01, -4.97228205e-01,  4.23698127e-01,\n",
              "          3.45133305e-01, -2.33608931e-01,  4.34251904e-01,\n",
              "          1.86397582e-01,  2.17982173e-01],\n",
              "        [ 2.28772491e-01,  1.96737498e-01, -1.28199503e-01,\n",
              "         -4.25504446e-02,  1.74714953e-01,  2.72220105e-01,\n",
              "         -1.11066103e-02, -8.88485014e-02, -2.12260887e-01,\n",
              "          4.85785306e-02,  2.61041522e-03,  2.32749373e-01,\n",
              "         -3.04311544e-01, -8.43848288e-02, -1.20750889e-01,\n",
              "         -1.72754705e-01, -1.27727032e-01,  2.00197190e-01,\n",
              "          1.80754572e-01, -3.30289155e-01, -7.64366984e-03,\n",
              "         -3.39075267e-01,  4.71734405e-02, -1.61675230e-01,\n",
              "          3.16812903e-01, -2.83742696e-01,  1.69321150e-01,\n",
              "          1.93457931e-01,  2.55274326e-01,  2.32096702e-01,\n",
              "         -1.56673744e-01, -1.07642621e-01],\n",
              "        [ 3.40916246e-01,  1.28884315e-01, -2.92142898e-01,\n",
              "          1.63601607e-01,  1.17736787e-01, -2.09324256e-01,\n",
              "         -2.04935342e-01, -9.04094577e-02,  1.15018249e-01,\n",
              "         -2.60500133e-01, -3.51555109e-01, -9.21185911e-02,\n",
              "         -1.93873897e-01,  3.34527045e-01,  1.72117651e-02,\n",
              "         -3.46785277e-01,  1.38793707e-01,  1.91178292e-01,\n",
              "          4.13488448e-02,  3.00516099e-01, -1.16392910e-01,\n",
              "         -7.64347315e-02,  1.20332956e-01, -1.20703086e-01,\n",
              "          8.16736817e-02,  5.56221604e-03, -1.50894821e-01,\n",
              "         -1.97419971e-01, -9.19551551e-02, -3.01571310e-01,\n",
              "         -2.59074062e-01, -2.51796722e-01],\n",
              "        [ 1.46377683e-02,  1.14607394e-01,  1.78100765e-02,\n",
              "         -7.76783228e-02, -2.52224505e-01,  1.63387150e-01,\n",
              "         -1.56260788e-01,  7.21459687e-02, -3.08283627e-01,\n",
              "          2.43001789e-01, -4.80040908e-02,  2.09985822e-01,\n",
              "         -3.09559762e-01, -2.99555928e-01, -1.08764246e-01,\n",
              "         -1.96319938e-01, -3.81503999e-02, -5.46697676e-02,\n",
              "          1.32036626e-01, -5.52300811e-02, -1.58259556e-01,\n",
              "         -2.40411937e-01, -1.69415742e-01, -1.11098245e-01,\n",
              "         -1.30650997e-02, -1.78075999e-01, -1.43893391e-01,\n",
              "          1.16807520e-02, -1.75345138e-01,  1.11673981e-01,\n",
              "         -3.63684297e-02,  3.24510306e-01],\n",
              "        [ 3.58095765e-03,  2.80278236e-01, -1.71563968e-01,\n",
              "         -2.26221353e-01,  1.48665518e-01,  3.53047937e-01,\n",
              "          7.02161491e-02, -9.55337584e-02, -2.94921398e-01,\n",
              "         -2.59377509e-01,  2.47375101e-01, -3.53337437e-01,\n",
              "         -1.52308419e-01,  1.60681605e-02, -6.27932250e-02,\n",
              "          1.07286572e-02,  2.21561998e-01,  1.40954822e-01,\n",
              "         -3.10827434e-01, -2.52777338e-01,  1.13842696e-01,\n",
              "         -1.75406575e-01,  9.46268439e-02,  9.89839733e-02,\n",
              "         -3.45495343e-03,  3.33784133e-01,  2.89406210e-01,\n",
              "         -3.15082490e-01,  1.71309143e-01, -5.66166937e-02,\n",
              "          6.13010824e-02, -3.09763253e-02],\n",
              "        [-1.79936275e-01,  2.63426214e-01, -3.18506241e-01,\n",
              "          1.60724729e-01,  2.80599028e-01,  2.75637776e-01,\n",
              "          2.08221048e-01,  1.05214804e-01,  2.23261118e-03,\n",
              "         -3.13730359e-01,  1.76394731e-01,  1.05186224e-01,\n",
              "          3.23296785e-02,  1.70044571e-01, -1.33838996e-01,\n",
              "         -1.27138242e-01, -1.45748347e-01, -3.43006134e-01,\n",
              "         -7.38678277e-02, -7.75657892e-02,  2.01020569e-01,\n",
              "          9.29870605e-02, -2.12087244e-01,  1.45281941e-01,\n",
              "          1.16637617e-01, -1.21944249e-02, -2.81521320e-01,\n",
              "          6.86187744e-02,  1.43521637e-01, -2.28083134e-03,\n",
              "          2.13477165e-01,  8.58505964e-02],\n",
              "        [ 1.53243557e-01,  2.97825783e-01,  1.14027888e-01,\n",
              "         -1.42435193e-01, -6.00728393e-02, -1.13803171e-01,\n",
              "          4.53542531e-01, -1.15911424e-01,  2.75799204e-02,\n",
              "          4.13514078e-01, -1.78733230e-01,  1.71413153e-01,\n",
              "         -2.36677891e-03, -1.73786879e-01, -2.05200627e-01,\n",
              "         -1.10645697e-01, -3.87028575e-01,  2.97483861e-01,\n",
              "          5.00684917e-01,  9.14862677e-02, -2.25377694e-01,\n",
              "         -1.24181509e-01, -1.28592730e-01,  2.16905966e-01,\n",
              "          1.80395856e-01,  1.99332416e-01, -2.74530631e-02,\n",
              "          3.49440247e-01,  1.88247025e-01,  3.13672066e-01,\n",
              "         -3.09416354e-01,  2.79826950e-02],\n",
              "        [ 1.19663239e-01,  1.93036467e-01, -2.03943953e-01,\n",
              "          8.87405276e-02,  5.60062528e-02, -1.25532866e-01,\n",
              "         -1.92279398e-01,  2.50951439e-01, -2.26382613e-02,\n",
              "          1.57815486e-01, -1.09414309e-01,  4.66385186e-02,\n",
              "         -2.28455812e-01, -2.57147104e-01, -2.56415427e-01,\n",
              "          2.56812185e-01,  2.22228467e-02,  1.07830346e-01,\n",
              "          3.81460190e-02, -2.41548300e-01,  1.78178221e-01,\n",
              "          1.63618773e-01, -2.12274283e-01,  3.09301704e-01,\n",
              "          4.72266376e-02,  2.63650090e-01, -2.47003615e-01,\n",
              "          3.01568002e-01, -6.69139326e-02,  2.45471925e-01,\n",
              "         -1.60278395e-01,  3.21050316e-01],\n",
              "        [ 3.22154760e-01, -2.91428775e-01, -1.16073936e-01,\n",
              "         -1.57350868e-01, -1.57664448e-01,  1.03494905e-01,\n",
              "         -9.24368352e-02, -1.75146624e-01,  9.90054384e-02,\n",
              "          5.37451543e-02, -1.24527246e-01, -5.45858368e-02,\n",
              "         -8.85714963e-02, -3.32654268e-01,  9.73209962e-02,\n",
              "          2.54505634e-01,  3.58987600e-01,  1.71052918e-01,\n",
              "         -2.55063564e-01, -2.71940768e-01,  3.35814416e-01,\n",
              "          4.79007244e-01, -3.13013017e-01,  2.81237185e-01,\n",
              "          4.11854297e-01,  5.45574188e-01, -1.92710146e-01,\n",
              "          6.31629601e-02,  3.52793299e-02, -1.79992154e-01,\n",
              "         -2.48399973e-02,  8.74504298e-02],\n",
              "        [-7.19574690e-02, -2.58376598e-01,  3.09486687e-02,\n",
              "         -2.53842771e-02, -1.91639066e-02, -2.31665969e-02,\n",
              "         -3.36276382e-01, -1.58639133e-01,  6.26077950e-02,\n",
              "         -3.13074201e-01, -2.70658195e-01, -1.94953114e-01,\n",
              "          3.40630502e-01,  2.45581597e-01,  8.90299082e-02,\n",
              "          5.34397662e-02,  2.63467044e-01,  2.63654441e-01,\n",
              "          2.26398617e-01, -3.40032250e-01, -2.81419992e-01,\n",
              "         -2.96593845e-01,  1.13561749e-03,  1.09932214e-01,\n",
              "         -1.31514519e-01, -3.46004367e-01, -3.35591078e-01,\n",
              "          3.39510113e-01,  1.28604293e-01, -1.14769652e-01,\n",
              "         -8.86999071e-02,  3.30181032e-01],\n",
              "        [-3.90576959e-01, -1.09676629e-01,  1.26566052e-01,\n",
              "         -1.81481540e-01,  9.02237594e-02, -2.60006815e-01,\n",
              "          6.49047554e-01,  1.72179371e-01, -1.08553745e-01,\n",
              "          4.37970728e-01,  2.11498886e-01, -1.22430697e-01,\n",
              "          3.64823602e-02, -1.26687586e-02,  8.21558535e-02,\n",
              "         -1.57960579e-01, -4.07988012e-01, -1.10244965e-02,\n",
              "          1.23493284e-01,  3.38770807e-01, -1.22536279e-01,\n",
              "          1.36936363e-03, -1.97435558e-01, -1.66106448e-01,\n",
              "         -2.22024158e-01,  1.05750393e-02,  4.06380206e-01,\n",
              "          5.55054307e-01,  3.00098956e-01,  3.20068479e-01,\n",
              "         -7.56688416e-02,  6.29871786e-01],\n",
              "        [-1.33433968e-01,  2.69297808e-01,  1.88388973e-01,\n",
              "          2.66228586e-01, -1.92501515e-01,  3.50636154e-01,\n",
              "          2.55719751e-01,  1.41442537e-01, -3.18737894e-01,\n",
              "          3.35184604e-01,  3.27346951e-01, -2.68009126e-01,\n",
              "         -9.04425085e-02,  3.42245907e-01,  3.00197810e-01,\n",
              "         -3.08960408e-01,  6.77583218e-02,  3.42787236e-01,\n",
              "          1.49321288e-01,  1.43291026e-01, -2.47139081e-01,\n",
              "         -1.53025091e-01,  2.08931297e-01,  2.97873944e-01,\n",
              "         -4.00379896e-02, -2.45809689e-01, -6.29282892e-02,\n",
              "         -1.35520920e-01,  2.16990203e-01,  8.47807527e-02,\n",
              "         -2.62493938e-01, -1.02156550e-01]], dtype=float32),\n",
              " array([ 0.2384402 ,  0.        ,  0.        ,  0.        ,  0.        ,\n",
              "         0.18371044, -0.10075475,  0.        , -0.02351724, -0.11703707,\n",
              "         0.        , -0.00816924, -0.06275821,  0.        , -0.0197454 ,\n",
              "         0.25004396,  0.20084837, -0.10136745, -0.09049226, -0.03971013,\n",
              "         0.20467077,  0.12539299,  0.        ,  0.2626049 ,  0.26524276,\n",
              "         0.27737513, -0.039644  , -0.09971276, -0.02355675, -0.07681686,\n",
              "         0.        , -0.0744087 ], dtype=float32),\n",
              " array([[ 0.84761155, -0.4230414 ],\n",
              "        [ 0.4164643 , -0.02413556],\n",
              "        [ 0.19611016,  0.05619013],\n",
              "        [-0.3456972 ,  0.01971897],\n",
              "        [ 0.36164972, -0.03275707],\n",
              "        [ 0.6292042 , -0.5277828 ],\n",
              "        [-0.5235639 ,  0.36714846],\n",
              "        [-0.06292772,  0.05508971],\n",
              "        [ 0.30188814,  0.3430874 ],\n",
              "        [-0.40737247,  0.20912652],\n",
              "        [ 0.22066966, -0.34440446],\n",
              "        [-0.06768472,  0.26228693],\n",
              "        [-0.27379858,  0.4296753 ],\n",
              "        [-0.18332425,  0.11739746],\n",
              "        [-0.174892  ,  0.26796308],\n",
              "        [ 0.2385101 , -0.8773929 ],\n",
              "        [ 0.13905047, -0.44652715],\n",
              "        [-0.46418548,  0.63153964],\n",
              "        [-0.44587746,  0.45442256],\n",
              "        [-0.71483856,  0.38202828],\n",
              "        [ 0.43796667, -0.1640026 ],\n",
              "        [ 0.66522604,  0.01093896],\n",
              "        [-0.33494827, -0.03540739],\n",
              "        [ 0.5886187 , -0.41963035],\n",
              "        [ 0.7744004 , -0.41735402],\n",
              "        [ 0.17489277, -0.85978055],\n",
              "        [-0.44201413,  0.49481913],\n",
              "        [-0.4882887 ,  0.37352931],\n",
              "        [-0.35398453,  0.13230549],\n",
              "        [-0.62203145,  0.19932209],\n",
              "        [-0.23652482,  0.02260959],\n",
              "        [-0.13822356,  0.6013267 ]], dtype=float32),\n",
              " array([ 0.17223051, -0.17223051], dtype=float32)]"
            ]
          },
          "metadata": {},
          "execution_count": 25
        }
      ]
    },
    {
      "cell_type": "code",
      "source": [
        "new_model.optimizer"
      ],
      "metadata": {
        "colab": {
          "base_uri": "https://localhost:8080/"
        },
        "id": "l7aJiVMOllri",
        "outputId": "9bf7f15c-6aa4-43cc-a042-26472ef052b4"
      },
      "execution_count": 26,
      "outputs": [
        {
          "output_type": "execute_result",
          "data": {
            "text/plain": [
              "<keras.optimizers.adam.Adam at 0x7fcd98a1eb30>"
            ]
          },
          "metadata": {},
          "execution_count": 26
        }
      ]
    },
    {
      "cell_type": "markdown",
      "source": [
        "## **2. model.tojson()**"
      ],
      "metadata": {
        "id": "nbQGYGrzl14e"
      }
    },
    {
      "cell_type": "markdown",
      "source": [
        "if you only need to save the architecture of a model, and not its weights or its training configuration, you can use the following function to save the architecture only."
      ],
      "metadata": {
        "id": "wlc_x7ncl7Si"
      }
    },
    {
      "cell_type": "code",
      "source": [
        "# save as JSON\n",
        "json_string = model.to_json()\n",
        "\n",
        "# save as YAML\n",
        "# yaml_string = model.to_yaml()"
      ],
      "metadata": {
        "id": "77SDNaA3mRXe"
      },
      "execution_count": 28,
      "outputs": []
    },
    {
      "cell_type": "code",
      "source": [
        "json_string"
      ],
      "metadata": {
        "colab": {
          "base_uri": "https://localhost:8080/",
          "height": 140
        },
        "id": "wDj1_tlFmlk_",
        "outputId": "2b4d7e27-36d4-4f8b-e921-5fd1dbf378ae"
      },
      "execution_count": 29,
      "outputs": [
        {
          "output_type": "execute_result",
          "data": {
            "text/plain": [
              "'{\"class_name\": \"Sequential\", \"config\": {\"name\": \"sequential\", \"layers\": [{\"class_name\": \"InputLayer\", \"config\": {\"batch_input_shape\": [null, 1], \"dtype\": \"float32\", \"sparse\": false, \"ragged\": false, \"name\": \"dense_input\"}}, {\"class_name\": \"Dense\", \"config\": {\"name\": \"dense\", \"trainable\": true, \"dtype\": \"float32\", \"batch_input_shape\": [null, 1], \"units\": 16, \"activation\": \"relu\", \"use_bias\": true, \"kernel_initializer\": {\"class_name\": \"GlorotUniform\", \"config\": {\"seed\": null}}, \"bias_initializer\": {\"class_name\": \"Zeros\", \"config\": {}}, \"kernel_regularizer\": null, \"bias_regularizer\": null, \"activity_regularizer\": null, \"kernel_constraint\": null, \"bias_constraint\": null}}, {\"class_name\": \"Dense\", \"config\": {\"name\": \"dense_1\", \"trainable\": true, \"dtype\": \"float32\", \"units\": 32, \"activation\": \"relu\", \"use_bias\": true, \"kernel_initializer\": {\"class_name\": \"GlorotUniform\", \"config\": {\"seed\": null}}, \"bias_initializer\": {\"class_name\": \"Zeros\", \"config\": {}}, \"kernel_regularizer\": null, \"bias_regularizer\": null, \"activity_regularizer\": null, \"kernel_constraint\": null, \"bias_constraint\": null}}, {\"class_name\": \"Dense\", \"config\": {\"name\": \"dense_2\", \"trainable\": true, \"dtype\": \"float32\", \"units\": 2, \"activation\": \"softmax\", \"use_bias\": true, \"kernel_initializer\": {\"class_name\": \"GlorotUniform\", \"config\": {\"seed\": null}}, \"bias_initializer\": {\"class_name\": \"Zeros\", \"config\": {}}, \"kernel_regularizer\": null, \"bias_regularizer\": null, \"activity_regularizer\": null, \"kernel_constraint\": null, \"bias_constraint\": null}}]}, \"keras_version\": \"2.12.0\", \"backend\": \"tensorflow\"}'"
            ],
            "application/vnd.google.colaboratory.intrinsic+json": {
              "type": "string"
            }
          },
          "metadata": {},
          "execution_count": 29
        }
      ]
    },
    {
      "cell_type": "code",
      "source": [
        "# model reconstruction from JSON\n",
        "from tensorflow.keras.models import model_from_json\n",
        "model_architecture = model_from_json(json_string)\n",
        "\n",
        "# model reconstruction from YAML\n",
        "# from tenserflow.keras.models import model_from_yaml\n",
        "# model_architecture = model_from_yaml(yaml_string)"
      ],
      "metadata": {
        "id": "gyqQ5H6lmuSg"
      },
      "execution_count": 31,
      "outputs": []
    },
    {
      "cell_type": "code",
      "source": [
        "model_architecture.summary()"
      ],
      "metadata": {
        "colab": {
          "base_uri": "https://localhost:8080/"
        },
        "id": "TaryN-2nnTKS",
        "outputId": "12ac9890-1a11-43d4-a8f8-443a486a328a"
      },
      "execution_count": 32,
      "outputs": [
        {
          "output_type": "stream",
          "name": "stdout",
          "text": [
            "Model: \"sequential\"\n",
            "_________________________________________________________________\n",
            " Layer (type)                Output Shape              Param #   \n",
            "=================================================================\n",
            " dense (Dense)               (None, 16)                32        \n",
            "                                                                 \n",
            " dense_1 (Dense)             (None, 32)                544       \n",
            "                                                                 \n",
            " dense_2 (Dense)             (None, 2)                 66        \n",
            "                                                                 \n",
            "=================================================================\n",
            "Total params: 642\n",
            "Trainable params: 642\n",
            "Non-trainable params: 0\n",
            "_________________________________________________________________\n"
          ]
        }
      ]
    },
    {
      "cell_type": "markdown",
      "source": [
        "## **3. model.save_weghts()**"
      ],
      "metadata": {
        "id": "LUpulNLwnme1"
      }
    },
    {
      "cell_type": "code",
      "source": [
        "import os.path\n",
        "if os.path.isfile('models/my_model_weights.h5') is False:\n",
        "  model.save_weights('models/my_model_weights.h5')"
      ],
      "metadata": {
        "id": "tQV5FldGnvVd"
      },
      "execution_count": 33,
      "outputs": []
    },
    {
      "cell_type": "code",
      "source": [
        "model2 = Sequential([\n",
        "    Dense(units=16, input_shape=(1,), activation='relu'),\n",
        "    Dense(units=32, activation='relu'),\n",
        "    Dense(units=2, activation='softmax')\n",
        "])"
      ],
      "metadata": {
        "id": "tjEGo1KWn8Pm"
      },
      "execution_count": 34,
      "outputs": []
    },
    {
      "cell_type": "code",
      "source": [
        "model2.load_weights('models/my_model_weights.h5')"
      ],
      "metadata": {
        "id": "RYuI2-sYn_Cd"
      },
      "execution_count": 37,
      "outputs": []
    },
    {
      "cell_type": "markdown",
      "source": [
        "## **Saving using joblib**"
      ],
      "metadata": {
        "id": "1c7h9XsppJJ0"
      }
    },
    {
      "cell_type": "code",
      "source": [
        "import joblib\n",
        "# save model\n",
        "joblib.dump(model, 'my_model.pkl')\n",
        " \n",
        "# load model\n",
        "loaded_model = joblib.load(\"my_model.pkl\")"
      ],
      "metadata": {
        "id": "mxvEpPsUo1a9"
      },
      "execution_count": 39,
      "outputs": []
    },
    {
      "cell_type": "code",
      "source": [
        "loaded_model.summary()"
      ],
      "metadata": {
        "colab": {
          "base_uri": "https://localhost:8080/"
        },
        "id": "_PuYsrEppEPm",
        "outputId": "c7c08ee7-7249-48db-a960-da32447c3b99"
      },
      "execution_count": 40,
      "outputs": [
        {
          "output_type": "stream",
          "name": "stdout",
          "text": [
            "Model: \"sequential\"\n",
            "_________________________________________________________________\n",
            " Layer (type)                Output Shape              Param #   \n",
            "=================================================================\n",
            " dense (Dense)               (None, 16)                32        \n",
            "                                                                 \n",
            " dense_1 (Dense)             (None, 32)                544       \n",
            "                                                                 \n",
            " dense_2 (Dense)             (None, 2)                 66        \n",
            "                                                                 \n",
            "=================================================================\n",
            "Total params: 642\n",
            "Trainable params: 642\n",
            "Non-trainable params: 0\n",
            "_________________________________________________________________\n"
          ]
        }
      ]
    }
  ]
}